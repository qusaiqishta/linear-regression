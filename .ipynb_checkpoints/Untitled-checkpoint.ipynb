{
 "cells": [
  {
   "cell_type": "markdown",
   "id": "3f81bbd9-d395-43f1-8eb6-42e1238180b7",
   "metadata": {},
   "source": [
    "# linear Regression \n",
    "\n",
    "## Author: Qusai Qishta\n",
    "## Dataset: BMW Cars prices\n",
    "## Date:22/6/2021"
   ]
  },
  {
   "cell_type": "code",
   "execution_count": 1,
   "id": "ce207590-5944-4e6c-8188-95be28c985f4",
   "metadata": {},
   "outputs": [],
   "source": [
    "import pandas as pd\n",
    "import matplotlib.pyplot as plt\n",
    "from sklearn.linear_model import LinearRegression\n",
    "from sklearn.model_selection import train_test_split"
   ]
  },
  {
   "cell_type": "code",
   "execution_count": 2,
   "id": "04e923a9-6b88-436d-a6c4-db9bdae5d893",
   "metadata": {},
   "outputs": [
    {
     "data": {
      "text/html": [
       "<div>\n",
       "<style scoped>\n",
       "    .dataframe tbody tr th:only-of-type {\n",
       "        vertical-align: middle;\n",
       "    }\n",
       "\n",
       "    .dataframe tbody tr th {\n",
       "        vertical-align: top;\n",
       "    }\n",
       "\n",
       "    .dataframe thead th {\n",
       "        text-align: right;\n",
       "    }\n",
       "</style>\n",
       "<table border=\"1\" class=\"dataframe\">\n",
       "  <thead>\n",
       "    <tr style=\"text-align: right;\">\n",
       "      <th></th>\n",
       "      <th>model</th>\n",
       "      <th>year</th>\n",
       "      <th>price</th>\n",
       "      <th>transmission</th>\n",
       "      <th>mileage</th>\n",
       "      <th>fuelType</th>\n",
       "      <th>tax</th>\n",
       "      <th>mpg</th>\n",
       "      <th>engineSize</th>\n",
       "    </tr>\n",
       "  </thead>\n",
       "  <tbody>\n",
       "    <tr>\n",
       "      <th>0</th>\n",
       "      <td>5 Series</td>\n",
       "      <td>2014</td>\n",
       "      <td>11200</td>\n",
       "      <td>Automatic</td>\n",
       "      <td>67068</td>\n",
       "      <td>Diesel</td>\n",
       "      <td>125</td>\n",
       "      <td>57.6</td>\n",
       "      <td>2.0</td>\n",
       "    </tr>\n",
       "    <tr>\n",
       "      <th>1</th>\n",
       "      <td>6 Series</td>\n",
       "      <td>2018</td>\n",
       "      <td>27000</td>\n",
       "      <td>Automatic</td>\n",
       "      <td>14827</td>\n",
       "      <td>Petrol</td>\n",
       "      <td>145</td>\n",
       "      <td>42.8</td>\n",
       "      <td>2.0</td>\n",
       "    </tr>\n",
       "    <tr>\n",
       "      <th>2</th>\n",
       "      <td>5 Series</td>\n",
       "      <td>2016</td>\n",
       "      <td>16000</td>\n",
       "      <td>Automatic</td>\n",
       "      <td>62794</td>\n",
       "      <td>Diesel</td>\n",
       "      <td>160</td>\n",
       "      <td>51.4</td>\n",
       "      <td>3.0</td>\n",
       "    </tr>\n",
       "    <tr>\n",
       "      <th>3</th>\n",
       "      <td>1 Series</td>\n",
       "      <td>2017</td>\n",
       "      <td>12750</td>\n",
       "      <td>Automatic</td>\n",
       "      <td>26676</td>\n",
       "      <td>Diesel</td>\n",
       "      <td>145</td>\n",
       "      <td>72.4</td>\n",
       "      <td>1.5</td>\n",
       "    </tr>\n",
       "    <tr>\n",
       "      <th>4</th>\n",
       "      <td>7 Series</td>\n",
       "      <td>2014</td>\n",
       "      <td>14500</td>\n",
       "      <td>Automatic</td>\n",
       "      <td>39554</td>\n",
       "      <td>Diesel</td>\n",
       "      <td>160</td>\n",
       "      <td>50.4</td>\n",
       "      <td>3.0</td>\n",
       "    </tr>\n",
       "  </tbody>\n",
       "</table>\n",
       "</div>"
      ],
      "text/plain": [
       "       model  year  price transmission  mileage fuelType  tax   mpg  \\\n",
       "0   5 Series  2014  11200    Automatic    67068   Diesel  125  57.6   \n",
       "1   6 Series  2018  27000    Automatic    14827   Petrol  145  42.8   \n",
       "2   5 Series  2016  16000    Automatic    62794   Diesel  160  51.4   \n",
       "3   1 Series  2017  12750    Automatic    26676   Diesel  145  72.4   \n",
       "4   7 Series  2014  14500    Automatic    39554   Diesel  160  50.4   \n",
       "\n",
       "   engineSize  \n",
       "0         2.0  \n",
       "1         2.0  \n",
       "2         3.0  \n",
       "3         1.5  \n",
       "4         3.0  "
      ]
     },
     "execution_count": 2,
     "metadata": {},
     "output_type": "execute_result"
    }
   ],
   "source": [
    "df=pd.read_csv('bmw.csv')\n",
    "df.head(5)"
   ]
  },
  {
   "cell_type": "code",
   "execution_count": 3,
   "id": "c826c6e0-c549-4470-8f2f-30ab0708205d",
   "metadata": {},
   "outputs": [
    {
     "name": "stdout",
     "output_type": "stream",
     "text": [
      "               year          price        mileage           tax           mpg  \\\n",
      "count  10781.000000   10781.000000   10781.000000  10781.000000  10781.000000   \n",
      "mean    2017.078935   22733.408867   25496.986550    131.702068     56.399035   \n",
      "std        2.349038   11415.528189   25143.192559     61.510755     31.336958   \n",
      "min     1996.000000    1200.000000       1.000000      0.000000      5.500000   \n",
      "25%     2016.000000   14950.000000    5529.000000    135.000000     45.600000   \n",
      "50%     2017.000000   20462.000000   18347.000000    145.000000     53.300000   \n",
      "75%     2019.000000   27940.000000   38206.000000    145.000000     62.800000   \n",
      "max     2020.000000  123456.000000  214000.000000    580.000000    470.800000   \n",
      "\n",
      "         engineSize  \n",
      "count  10781.000000  \n",
      "mean       2.167767  \n",
      "std        0.552054  \n",
      "min        0.000000  \n",
      "25%        2.000000  \n",
      "50%        2.000000  \n",
      "75%        2.000000  \n",
      "max        6.600000  \n",
      "----------------------------------------------------------------------------\n",
      "<class 'pandas.core.frame.DataFrame'>\n",
      "RangeIndex: 10781 entries, 0 to 10780\n",
      "Data columns (total 9 columns):\n",
      " #   Column        Non-Null Count  Dtype  \n",
      "---  ------        --------------  -----  \n",
      " 0   model         10781 non-null  object \n",
      " 1   year          10781 non-null  int64  \n",
      " 2   price         10781 non-null  int64  \n",
      " 3   transmission  10781 non-null  object \n",
      " 4   mileage       10781 non-null  int64  \n",
      " 5   fuelType      10781 non-null  object \n",
      " 6   tax           10781 non-null  int64  \n",
      " 7   mpg           10781 non-null  float64\n",
      " 8   engineSize    10781 non-null  float64\n",
      "dtypes: float64(2), int64(4), object(3)\n",
      "memory usage: 758.2+ KB\n",
      "None\n"
     ]
    }
   ],
   "source": [
    "print(df.describe())\n",
    "print('----------------------------------------------------------------------------')\n",
    "print(df.info())"
   ]
  },
  {
   "cell_type": "code",
   "execution_count": 4,
   "id": "a913189d-f9ba-4e8f-89d0-0ae1d8e06221",
   "metadata": {},
   "outputs": [],
   "source": [
    "x=df['year'].values\n",
    "y=df['price'].values\n",
    "x=x.reshape(-1,1)\n",
    "x_train, x_test , y_train , y_test=train_test_split(x,y, train_size=0.8 , test_size=0.2 , random_state=100)"
   ]
  },
  {
   "cell_type": "code",
   "execution_count": 5,
   "id": "2a777084-515a-4660-94bb-d8cdeb03e1d9",
   "metadata": {},
   "outputs": [
    {
     "data": {
      "image/png": "[encoded data removed]",
      "text/plain": [
       "<Figure size 432x288 with 1 Axes>"
      ]
     },
     "metadata": {
      "needs_background": "light"
     },
     "output_type": "display_data"
    }
   ],
   "source": [
    "plt.scatter(x_train,y_train , color='red')\n",
    "plt.xlabel('year')\n",
    "plt.ylabel('price')\n",
    "plt.title('Price VS Prodiction Year')\n",
    "plt.show()"
   ]
  },
  {
   "cell_type": "code",
   "execution_count": 6,
   "id": "7226ddc2-ef4b-4cab-86ea-39a01c7e089d",
   "metadata": {},
   "outputs": [
    {
     "data": {
      "text/plain": [
       "LinearRegression()"
      ]
     },
     "execution_count": 6,
     "metadata": {},
     "output_type": "execute_result"
    }
   ],
   "source": [
    "model = LinearRegression()\n",
    "model.fit(x_train,y_train)"
   ]
  },
  {
   "cell_type": "code",
   "execution_count": 7,
   "id": "6dc1a001-3323-4b86-a66b-0b32adc4fbbe",
   "metadata": {},
   "outputs": [
    {
     "data": {
      "text/plain": [
       "array([25492.49079251, 28511.99719526, 19453.47798699, ...,\n",
       "       28511.99719526, 31531.50359802, 13414.46518148])"
      ]
     },
     "execution_count": 7,
     "metadata": {},
     "output_type": "execute_result"
    }
   ],
   "source": [
    "y_hat=model.predict(x_test)\n",
    "y_hat"
   ]
  },
  {
   "cell_type": "code",
   "execution_count": 8,
   "id": "27659f15-38e2-4810-8781-4bbd312c34c5",
   "metadata": {},
   "outputs": [
    {
     "data": {
      "text/plain": [
       "39.007341980090395"
      ]
     },
     "execution_count": 8,
     "metadata": {},
     "output_type": "execute_result"
    }
   ],
   "source": [
    "accu = model.score(x_test , y_test)\n",
    "accu*100"
   ]
  },
  {
   "cell_type": "code",
   "execution_count": 9,
   "id": "059e007d-a372-4711-bf82-246d38b979e5",
   "metadata": {},
   "outputs": [
    {
     "data": {
      "text/plain": [
       "array([25492.49079251, 28511.99719526, 19453.47798699, ...,\n",
       "       28511.99719526, 31531.50359802, 13414.46518148])"
      ]
     },
     "execution_count": 9,
     "metadata": {},
     "output_type": "execute_result"
    }
   ],
   "source": [
    "y_predict = model.predict(x_test)\n",
    "y_predict"
   ]
  },
  {
   "cell_type": "code",
   "execution_count": 10,
   "id": "71d5b4ae-ad77-4fcc-bbf3-fdac34631861",
   "metadata": {},
   "outputs": [
    {
     "data": {
      "image/png": "[encoded data removed]",
      "text/plain": [
       "<Figure size 432x288 with 1 Axes>"
      ]
     },
     "metadata": {
      "needs_background": "light"
     },
     "output_type": "display_data"
    }
   ],
   "source": [
    "plt.scatter(x_train, y_train)\n",
    "plt.scatter(x_test, y_test, color = 'black')\n",
    "plt.plot(x_test, y_predict , color = 'red')\n",
    "plt.xlabel('year')\n",
    "plt.ylabel('price')\n",
    "plt.title('Price VS Prodiction Year')\n",
    "\n",
    "plt.show()\n"
   ]
  },
  {
   "cell_type": "markdown",
   "id": "4daa4139-a1e8-4358-ba21-03dd2587f2b9",
   "metadata": {},
   "source": [
    "## Now let's see the relationship between price and mpg"
   ]
  },
  {
   "cell_type": "code",
   "execution_count": 11,
   "id": "f5a4a7f4-86f0-48d7-a9c2-9334ddf7b806",
   "metadata": {},
   "outputs": [
    {
     "data": {
      "image/png": "[encoded data removed]",
      "text/plain": [
       "<Figure size 432x288 with 1 Axes>"
      ]
     },
     "metadata": {
      "needs_background": "light"
     },
     "output_type": "display_data"
    }
   ],
   "source": [
    "X = df['mpg'].values\n",
    "Y = df['price'].values\n",
    "X = X.reshape(-1,1)\n",
    "x_train, x_test, y_train, y_test = train_test_split(X, Y, train_size=0.6, test_size=0.4, random_state=100)\n",
    "model = LinearRegression()\n",
    "model.fit(x_train, y_train)\n",
    "y_predict = model.predict(x_test)\n",
    "plt.scatter(x_train, y_train, color='black')\n",
    "plt.plot(x_test, y_predict, color='yellow')\n",
    "plt.xlabel('Miles Per Gallon')\n",
    "plt.ylabel('Price')\n",
    "plt.show()"
   ]
  },
  {
   "cell_type": "markdown",
   "id": "fca2eff5-2833-4f39-860e-be8976cfc3f2",
   "metadata": {},
   "source": [
    "## The relationship between the engine size and number of miles per gallon "
   ]
  },
  {
   "cell_type": "code",
   "execution_count": 12,
   "id": "57b39f0e-7319-4142-99ab-68f6ca85ca6f",
   "metadata": {},
   "outputs": [
    {
     "data": {
      "image/png": "[encoded data removed]",
      "text/plain": [
       "<Figure size 432x288 with 1 Axes>"
      ]
     },
     "metadata": {
      "needs_background": "light"
     },
     "output_type": "display_data"
    }
   ],
   "source": [
    "X = df['engineSize'].values\n",
    "Y = df['mpg'].values\n",
    "X = X.reshape(-1,1)\n",
    "x_train, x_test, y_train, y_test = train_test_split(X, Y, train_size=0.6, test_size=0.4, random_state=100)\n",
    "model = LinearRegression()\n",
    "model.fit(x_train, y_train)\n",
    "y_predict = model.predict(x_test)\n",
    "plt.scatter(x_train, y_train, color='purple')\n",
    "plt.plot(x_test, y_predict, color='black')\n",
    "plt.xlabel('engine size')\n",
    "plt.ylabel('mpg')\n",
    "plt.show()"
   ]
  },
  {
   "cell_type": "markdown",
   "id": "f6333547-849c-427b-be65-376a7d351dfc",
   "metadata": {},
   "source": [
    "## finally let's see the relationship between the engine size and the tax"
   ]
  },
  {
   "cell_type": "code",
   "execution_count": 13,
   "id": "316e9329-513b-46d1-aba7-635ac38e5bb0",
   "metadata": {},
   "outputs": [
    {
     "data": {
      "image/png": "[encoded data removed]",
      "text/plain": [
       "<Figure size 432x288 with 1 Axes>"
      ]
     },
     "metadata": {
      "needs_background": "light"
     },
     "output_type": "display_data"
    }
   ],
   "source": [
    "X = df['engineSize'].values\n",
    "Y = df['tax'].values\n",
    "X = X.reshape(-1,1)\n",
    "x_train, x_test, y_train, y_test = train_test_split(X, Y, train_size=0.6, test_size=0.4, random_state=100)\n",
    "model = LinearRegression()\n",
    "model.fit(x_train, y_train)\n",
    "y_predict = model.predict(x_test)\n",
    "plt.scatter(x_train, y_train, color='green')\n",
    "plt.plot(x_test, y_predict, color='yellow')\n",
    "plt.xlabel('engine size')\n",
    "plt.ylabel('tax')\n",
    "plt.show()"
   ]
  },
  {
   "cell_type": "markdown",
   "id": "ac0ac3f0-e2e8-4acc-98fd-04cb9194a59d",
   "metadata": {},
   "source": [
    "## Conclusion from above regressions \n",
    "- The newest car the most expensive car\n",
    "- when the price of a car increase it's ability to cross more miles per gallon increase\n",
    "- when the engine size increase the car's ability  to cross more miles per gallon decrease\n",
    "- when the engine size increase tax imposed on it increase\n"
   ]
  },
  {
   "cell_type": "code",
   "execution_count": null,
   "id": "89824695-9a4c-4644-acb4-6dc901c600f2",
   "metadata": {},
   "outputs": [],
   "source": []
  }
 ],
 "metadata": {
  "kernelspec": {
   "display_name": "Python 3",
   "language": "python",
   "name": "python3"
  },
  "language_info": {
   "codemirror_mode": {
    "name": "ipython",
    "version": 3
   },
   "file_extension": ".py",
   "mimetype": "text/x-python",
   "name": "python",
   "nbconvert_exporter": "python",
   "pygments_lexer": "ipython3",
   "version": "3.9.4"
  }
 },
 "nbformat": 4,
 "nbformat_minor": 5
}
